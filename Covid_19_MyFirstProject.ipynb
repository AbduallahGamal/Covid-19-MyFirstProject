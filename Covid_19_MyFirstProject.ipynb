{
  "nbformat": 4,
  "nbformat_minor": 0,
  "metadata": {
    "colab": {
      "name": "Covid-19 MyFirstProject.ipynb",
      "provenance": [],
      "collapsed_sections": [],
      "authorship_tag": "ABX9TyPDKuQdise68pyELDNfCSfp",
      "include_colab_link": true
    },
    "kernelspec": {
      "name": "python3",
      "display_name": "Python 3"
    },
    "language_info": {
      "name": "python"
    },
    "accelerator": "GPU"
  },
  "cells": [
    {
      "cell_type": "markdown",
      "metadata": {
        "id": "view-in-github",
        "colab_type": "text"
      },
      "source": [
        "<a href=\"https://colab.research.google.com/github/AbduallahGamal/Covid-19-MyFirstProject/blob/main/Covid_19_MyFirstProject.ipynb\" target=\"_parent\"><img src=\"https://colab.research.google.com/assets/colab-badge.svg\" alt=\"Open In Colab\"/></a>"
      ]
    },
    {
      "cell_type": "code",
      "metadata": {
        "id": "X_OK-kIDDedg"
      },
      "source": [
        "# install tensorflow\n",
        "import tensorflow as tf"
      ],
      "execution_count": 1,
      "outputs": []
    },
    {
      "cell_type": "code",
      "metadata": {
        "colab": {
          "base_uri": "https://localhost:8080/"
        },
        "id": "3uLMPp_UHxIN",
        "outputId": "0ce26c05-6d5f-4472-9082-1131a2a5c6d0"
      },
      "source": [
        "# upload google drive in our colab\n",
        "from google.colab import drive\n",
        "drive.mount('/content/drive')"
      ],
      "execution_count": 2,
      "outputs": [
        {
          "output_type": "stream",
          "name": "stdout",
          "text": [
            "Drive already mounted at /content/drive; to attempt to forcibly remount, call drive.mount(\"/content/drive\", force_remount=True).\n"
          ]
        }
      ]
    },
    {
      "cell_type": "code",
      "metadata": {
        "id": "EUTMFhOmNZtq"
      },
      "source": [
        "# importing libraries\n",
        "import tensorflow.keras\n",
        "from tensorflow.keras.models import Model\n",
        "from tensorflow.keras.layers import Input, Dense, Activation, Flatten, Conv2D, MaxPool2D, Dropout\n",
        "from tensorflow.keras.optimizers import Adam\n",
        "from tensorflow.keras.preprocessing.image import ImageDataGenerator\n",
        "from tensorflow.keras.losses import binary_crossentropy\n",
        "from tensorflow.keras import metrics\n",
        "import matplotlib.pyplot as plt\n",
        "from sklearn.metrics import classification_report, confusion_matrix, plot_confusion_matrix, ConfusionMatrixDisplay\n",
        "import numpy as np"
      ],
      "execution_count": 3,
      "outputs": []
    },
    {
      "cell_type": "code",
      "metadata": {
        "id": "XVjEPlksX6uQ"
      },
      "source": [
        "# create path for both (train/test)\n",
        "train_loc = '/content/drive/MyDrive/our_DATA/train'\n",
        "test_loc = '/content/drive/MyDrive/our_DATA/val'"
      ],
      "execution_count": 4,
      "outputs": []
    },
    {
      "cell_type": "code",
      "metadata": {
        "colab": {
          "base_uri": "https://localhost:8080/"
        },
        "id": "cIUtkziAYnQD",
        "outputId": "1e687890-66ad-47c6-d3d8-2fd3895b39c5"
      },
      "source": [
        "# resize images & do data augmentation\n",
        "trdata = ImageDataGenerator(rescale=1./255, shear_range=0.2, zoom_range=0.2, horizontal_flip=True)\n",
        "traindata = trdata.flow_from_directory(directory = train_loc, target_size=(224,224))\n",
        "\n",
        "tsdata = ImageDataGenerator(rescale=1./255, shear_range=0.2, zoom_range=0.2, horizontal_flip=True)\n",
        "testdata = tsdata.flow_from_directory(directory = test_loc, target_size=(224,224))"
      ],
      "execution_count": 5,
      "outputs": [
        {
          "output_type": "stream",
          "name": "stdout",
          "text": [
            "Found 274 images belonging to 2 classes.\n",
            "Found 118 images belonging to 2 classes.\n"
          ]
        }
      ]
    },
    {
      "cell_type": "code",
      "metadata": {
        "colab": {
          "base_uri": "https://localhost:8080/"
        },
        "id": "uQizaV94dRQ9",
        "outputId": "6ec1b5a1-9b9e-4ec7-df18-6cfece6e2fec"
      },
      "source": [
        "traindata.class_indices"
      ],
      "execution_count": 6,
      "outputs": [
        {
          "output_type": "execute_result",
          "data": {
            "text/plain": [
              "{'COVID+': 0, 'COVID-': 1}"
            ]
          },
          "metadata": {},
          "execution_count": 6
        }
      ]
    },
    {
      "cell_type": "code",
      "metadata": {
        "id": "wMACJoged6Gz"
      },
      "source": [
        "# define input\n",
        "input_shape = (224,224,3)\n",
        "\n",
        "# create the neural network\n",
        "# input layer\n",
        "image_input = Input(shape=input_shape, name='image_input')\n",
        "\n",
        "# Build the model\n",
        "firstConv2D = Conv2D(32, (3,3), padding='same', activation='relu', name='firstConv2D')(image_input)\n",
        "secondConv2D = Conv2D(64, (3,3), padding='same', activation='relu', name='secondConv2D')(firstConv2D)\n",
        "firstMaxPooling = MaxPool2D(pool_size=(2,2), strides=(2,2), name='firstMaxPooling')(secondConv2D)\n",
        "firstDropout = Dropout(0.25, name='firstDropout')(firstMaxPooling)\n",
        "\n",
        "thirdConv2D = Conv2D(64, (3,3), padding='same', activation='relu', name='thirdConv2D')(firstDropout)\n",
        "secondMaxPooling = MaxPool2D(pool_size=(2,2), strides=(2,2), name='secondMaxPooling')(thirdConv2D)\n",
        "secondDropout = Dropout(0.25, name='secondDropout')(secondMaxPooling)\n",
        "\n",
        "fourthConv2D = Conv2D(128, (3,3), padding='same', activation='relu', name='fourthConv2D')(secondDropout)\n",
        "thirdMaxPooling = MaxPool2D(pool_size=(2,2), strides=(2,2), name='thirdMaxPooling')(fourthConv2D)\n",
        "thirdDropout = Dropout(0.25, name='thirdDropout')(thirdMaxPooling)\n",
        "\n",
        "flattenLayer = Flatten(name='flattenLayer')(thirdDropout)\n",
        "firstDenseLayer = Dense(64, name='firstDenseLayer')(flattenLayer)\n",
        "fourthDropout = Dropout(0.5, name='fourthDropout')(firstDenseLayer)\n",
        "predictionDenseLayer = Dense(2, activation='sigmoid', name='predictions')(fourthDropout)"
      ],
      "execution_count": 6,
      "outputs": []
    },
    {
      "cell_type": "code",
      "metadata": {
        "id": "ACJqopRwU8Zd"
      },
      "source": [
        "# generate the model\n",
        "model = Model(inputs=image_input, outputs=predictionDenseLayer, name='CNN_COVID-19_Predictions')"
      ],
      "execution_count": 7,
      "outputs": []
    },
    {
      "cell_type": "code",
      "metadata": {
        "colab": {
          "base_uri": "https://localhost:8080/"
        },
        "id": "WxUIDyvWV5km",
        "outputId": "2447b9f5-fc46-47bb-964a-0248e0315b2c"
      },
      "source": [
        "# print network structure\n",
        "model.summary()"
      ],
      "execution_count": 8,
      "outputs": [
        {
          "output_type": "stream",
          "name": "stdout",
          "text": [
            "Model: \"CNN_COVID-19_Predictions\"\n",
            "_________________________________________________________________\n",
            "Layer (type)                 Output Shape              Param #   \n",
            "=================================================================\n",
            "image_input (InputLayer)     [(None, 224, 224, 3)]     0         \n",
            "_________________________________________________________________\n",
            "firstConv2D (Conv2D)         (None, 224, 224, 32)      896       \n",
            "_________________________________________________________________\n",
            "secondConv2D (Conv2D)        (None, 224, 224, 64)      18496     \n",
            "_________________________________________________________________\n",
            "firstMaxPooling (MaxPooling2 (None, 112, 112, 64)      0         \n",
            "_________________________________________________________________\n",
            "firstDropout (Dropout)       (None, 112, 112, 64)      0         \n",
            "_________________________________________________________________\n",
            "thirdConv2D (Conv2D)         (None, 112, 112, 64)      36928     \n",
            "_________________________________________________________________\n",
            "secondMaxPooling (MaxPooling (None, 56, 56, 64)        0         \n",
            "_________________________________________________________________\n",
            "secondDropout (Dropout)      (None, 56, 56, 64)        0         \n",
            "_________________________________________________________________\n",
            "fourthConv2D (Conv2D)        (None, 56, 56, 128)       73856     \n",
            "_________________________________________________________________\n",
            "thirdMaxPooling (MaxPooling2 (None, 28, 28, 128)       0         \n",
            "_________________________________________________________________\n",
            "thirdDropout (Dropout)       (None, 28, 28, 128)       0         \n",
            "_________________________________________________________________\n",
            "flattenLayer (Flatten)       (None, 100352)            0         \n",
            "_________________________________________________________________\n",
            "firstDenseLayer (Dense)      (None, 64)                6422592   \n",
            "_________________________________________________________________\n",
            "fourthDropout (Dropout)      (None, 64)                0         \n",
            "_________________________________________________________________\n",
            "predictions (Dense)          (None, 2)                 130       \n",
            "=================================================================\n",
            "Total params: 6,552,898\n",
            "Trainable params: 6,552,898\n",
            "Non-trainable params: 0\n",
            "_________________________________________________________________\n"
          ]
        }
      ]
    },
    {
      "cell_type": "code",
      "metadata": {
        "id": "55VyyPedYU9E"
      },
      "source": [
        "# Compiling the model\n",
        "model.compile(optimizer='adam', loss=binary_crossentropy, metrics=['accuracy'])"
      ],
      "execution_count": 9,
      "outputs": []
    },
    {
      "cell_type": "code",
      "metadata": {
        "colab": {
          "base_uri": "https://localhost:8080/"
        },
        "id": "2eWta9FbZgw7",
        "outputId": "a4ca34aa-2a26-4d08-d456-d5dec90a1f74"
      },
      "source": [
        "# start train & test\n",
        "batch_size = 32\n",
        "hist = model.fit(traindata, \n",
        "                 steps_per_epoch=traindata.samples//batch_size,\n",
        "                 validation_data =testdata,\n",
        "                 validation_steps =testdata.samples//batch_size,\n",
        "                 epochs = 100)"
      ],
      "execution_count": 10,
      "outputs": [
        {
          "output_type": "stream",
          "name": "stdout",
          "text": [
            "Epoch 1/100\n",
            "8/8 [==============================] - 21s 2s/step - loss: 2.3507 - accuracy: 0.7231 - val_loss: 0.5908 - val_accuracy: 0.7500\n",
            "Epoch 2/100\n",
            "8/8 [==============================] - 14s 2s/step - loss: 0.4004 - accuracy: 0.8636 - val_loss: 0.4039 - val_accuracy: 0.8646\n",
            "Epoch 3/100\n",
            "8/8 [==============================] - 14s 2s/step - loss: 0.3051 - accuracy: 0.8884 - val_loss: 0.3509 - val_accuracy: 0.8854\n",
            "Epoch 4/100\n",
            "8/8 [==============================] - 14s 2s/step - loss: 0.3044 - accuracy: 0.8678 - val_loss: 0.3265 - val_accuracy: 0.8958\n",
            "Epoch 5/100\n",
            "8/8 [==============================] - 14s 2s/step - loss: 0.2564 - accuracy: 0.9008 - val_loss: 0.3356 - val_accuracy: 0.9062\n",
            "Epoch 6/100\n",
            "8/8 [==============================] - 14s 2s/step - loss: 0.1954 - accuracy: 0.9421 - val_loss: 0.2614 - val_accuracy: 0.9479\n",
            "Epoch 7/100\n",
            "8/8 [==============================] - 14s 2s/step - loss: 0.1377 - accuracy: 0.9711 - val_loss: 0.2014 - val_accuracy: 0.9271\n",
            "Epoch 8/100\n",
            "8/8 [==============================] - 14s 2s/step - loss: 0.1242 - accuracy: 0.9587 - val_loss: 0.2013 - val_accuracy: 0.9375\n",
            "Epoch 9/100\n",
            "8/8 [==============================] - 14s 2s/step - loss: 0.0927 - accuracy: 0.9793 - val_loss: 0.2501 - val_accuracy: 0.9167\n",
            "Epoch 10/100\n",
            "8/8 [==============================] - 14s 2s/step - loss: 0.1604 - accuracy: 0.9339 - val_loss: 0.2351 - val_accuracy: 0.8958\n",
            "Epoch 11/100\n",
            "8/8 [==============================] - 14s 2s/step - loss: 0.3332 - accuracy: 0.9339 - val_loss: 0.2544 - val_accuracy: 0.9375\n",
            "Epoch 12/100\n",
            "8/8 [==============================] - 14s 2s/step - loss: 0.3165 - accuracy: 0.9256 - val_loss: 0.5142 - val_accuracy: 0.8542\n",
            "Epoch 13/100\n",
            "8/8 [==============================] - 14s 2s/step - loss: 0.3074 - accuracy: 0.9421 - val_loss: 0.3548 - val_accuracy: 0.9479\n",
            "Epoch 14/100\n",
            "8/8 [==============================] - 15s 2s/step - loss: 0.1472 - accuracy: 0.9669 - val_loss: 0.2876 - val_accuracy: 0.8854\n",
            "Epoch 15/100\n",
            "8/8 [==============================] - 14s 2s/step - loss: 0.1964 - accuracy: 0.9463 - val_loss: 0.1832 - val_accuracy: 0.9688\n",
            "Epoch 16/100\n",
            "8/8 [==============================] - 15s 2s/step - loss: 0.1092 - accuracy: 0.9752 - val_loss: 0.3123 - val_accuracy: 0.8854\n",
            "Epoch 17/100\n",
            "8/8 [==============================] - 15s 2s/step - loss: 0.1417 - accuracy: 0.9587 - val_loss: 0.2035 - val_accuracy: 0.9271\n",
            "Epoch 18/100\n",
            "8/8 [==============================] - 15s 2s/step - loss: 0.1531 - accuracy: 0.9587 - val_loss: 0.2477 - val_accuracy: 0.9375\n",
            "Epoch 19/100\n",
            "8/8 [==============================] - 14s 2s/step - loss: 0.1379 - accuracy: 0.9545 - val_loss: 0.2434 - val_accuracy: 0.9375\n",
            "Epoch 20/100\n",
            "8/8 [==============================] - 14s 2s/step - loss: 0.0908 - accuracy: 0.9793 - val_loss: 0.2152 - val_accuracy: 0.9271\n",
            "Epoch 21/100\n",
            "8/8 [==============================] - 14s 2s/step - loss: 0.0574 - accuracy: 0.9876 - val_loss: 0.3001 - val_accuracy: 0.9271\n",
            "Epoch 22/100\n",
            "8/8 [==============================] - 14s 2s/step - loss: 0.0899 - accuracy: 0.9793 - val_loss: 0.1443 - val_accuracy: 0.9688\n",
            "Epoch 23/100\n",
            "8/8 [==============================] - 15s 2s/step - loss: 0.0630 - accuracy: 0.9793 - val_loss: 0.2010 - val_accuracy: 0.9375\n",
            "Epoch 24/100\n",
            "8/8 [==============================] - 14s 2s/step - loss: 0.0739 - accuracy: 0.9835 - val_loss: 0.1528 - val_accuracy: 0.9583\n",
            "Epoch 25/100\n",
            "8/8 [==============================] - 14s 2s/step - loss: 0.0669 - accuracy: 0.9793 - val_loss: 0.2086 - val_accuracy: 0.9375\n",
            "Epoch 26/100\n",
            "8/8 [==============================] - 14s 2s/step - loss: 0.0744 - accuracy: 0.9876 - val_loss: 0.1788 - val_accuracy: 0.9792\n",
            "Epoch 27/100\n",
            "8/8 [==============================] - 14s 2s/step - loss: 0.1010 - accuracy: 0.9752 - val_loss: 0.2018 - val_accuracy: 0.9583\n",
            "Epoch 28/100\n",
            "8/8 [==============================] - 14s 2s/step - loss: 0.0372 - accuracy: 0.9917 - val_loss: 0.2824 - val_accuracy: 0.9271\n",
            "Epoch 29/100\n",
            "8/8 [==============================] - 14s 2s/step - loss: 0.0826 - accuracy: 0.9766 - val_loss: 0.1760 - val_accuracy: 0.9479\n",
            "Epoch 30/100\n",
            "8/8 [==============================] - 14s 2s/step - loss: 0.0634 - accuracy: 0.9917 - val_loss: 0.2347 - val_accuracy: 0.9375\n",
            "Epoch 31/100\n",
            "8/8 [==============================] - 14s 2s/step - loss: 0.0593 - accuracy: 0.9835 - val_loss: 0.2682 - val_accuracy: 0.9271\n",
            "Epoch 32/100\n",
            "8/8 [==============================] - 14s 2s/step - loss: 0.0817 - accuracy: 0.9835 - val_loss: 0.3534 - val_accuracy: 0.8854\n",
            "Epoch 33/100\n",
            "8/8 [==============================] - 14s 2s/step - loss: 0.0847 - accuracy: 0.9669 - val_loss: 0.3525 - val_accuracy: 0.8750\n",
            "Epoch 34/100\n",
            "8/8 [==============================] - 14s 2s/step - loss: 0.0747 - accuracy: 0.9752 - val_loss: 0.1995 - val_accuracy: 0.9583\n",
            "Epoch 35/100\n",
            "8/8 [==============================] - 14s 2s/step - loss: 0.0522 - accuracy: 0.9876 - val_loss: 0.2652 - val_accuracy: 0.9271\n",
            "Epoch 36/100\n",
            "8/8 [==============================] - 14s 2s/step - loss: 0.0899 - accuracy: 0.9711 - val_loss: 0.1497 - val_accuracy: 0.9479\n",
            "Epoch 37/100\n",
            "8/8 [==============================] - 14s 2s/step - loss: 0.0874 - accuracy: 0.9844 - val_loss: 0.5294 - val_accuracy: 0.8021\n",
            "Epoch 38/100\n",
            "8/8 [==============================] - 14s 2s/step - loss: 0.0686 - accuracy: 0.9835 - val_loss: 0.1245 - val_accuracy: 0.9375\n",
            "Epoch 39/100\n",
            "8/8 [==============================] - 14s 2s/step - loss: 0.0530 - accuracy: 0.9793 - val_loss: 0.2208 - val_accuracy: 0.9271\n",
            "Epoch 40/100\n",
            "8/8 [==============================] - 14s 2s/step - loss: 0.0849 - accuracy: 0.9752 - val_loss: 0.2047 - val_accuracy: 0.9167\n",
            "Epoch 41/100\n",
            "8/8 [==============================] - 14s 2s/step - loss: 0.0716 - accuracy: 0.9876 - val_loss: 0.2313 - val_accuracy: 0.9167\n",
            "Epoch 42/100\n",
            "8/8 [==============================] - 14s 2s/step - loss: 0.0388 - accuracy: 0.9876 - val_loss: 0.1269 - val_accuracy: 0.9479\n",
            "Epoch 43/100\n",
            "8/8 [==============================] - 14s 2s/step - loss: 0.0881 - accuracy: 0.9793 - val_loss: 0.2042 - val_accuracy: 0.9375\n",
            "Epoch 44/100\n",
            "8/8 [==============================] - 15s 2s/step - loss: 0.0506 - accuracy: 0.9883 - val_loss: 0.2499 - val_accuracy: 0.9375\n",
            "Epoch 45/100\n",
            "8/8 [==============================] - 14s 2s/step - loss: 0.0599 - accuracy: 0.9835 - val_loss: 0.2257 - val_accuracy: 0.9271\n",
            "Epoch 46/100\n",
            "8/8 [==============================] - 14s 2s/step - loss: 0.0891 - accuracy: 0.9648 - val_loss: 0.0817 - val_accuracy: 0.9479\n",
            "Epoch 47/100\n",
            "8/8 [==============================] - 14s 2s/step - loss: 0.0319 - accuracy: 0.9917 - val_loss: 0.1335 - val_accuracy: 0.9583\n",
            "Epoch 48/100\n",
            "8/8 [==============================] - 14s 2s/step - loss: 0.0480 - accuracy: 0.9793 - val_loss: 0.1616 - val_accuracy: 0.9479\n",
            "Epoch 49/100\n",
            "8/8 [==============================] - 14s 2s/step - loss: 0.0626 - accuracy: 0.9917 - val_loss: 0.1880 - val_accuracy: 0.9479\n",
            "Epoch 50/100\n",
            "8/8 [==============================] - 14s 2s/step - loss: 0.0510 - accuracy: 0.9835 - val_loss: 0.2064 - val_accuracy: 0.9479\n",
            "Epoch 51/100\n",
            "8/8 [==============================] - 14s 2s/step - loss: 0.0532 - accuracy: 0.9876 - val_loss: 0.0910 - val_accuracy: 0.9688\n",
            "Epoch 52/100\n",
            "8/8 [==============================] - 14s 2s/step - loss: 0.0922 - accuracy: 0.9835 - val_loss: 0.3081 - val_accuracy: 0.8958\n",
            "Epoch 53/100\n",
            "8/8 [==============================] - 14s 2s/step - loss: 0.0521 - accuracy: 0.9876 - val_loss: 0.1953 - val_accuracy: 0.9271\n",
            "Epoch 54/100\n",
            "8/8 [==============================] - 14s 2s/step - loss: 0.0864 - accuracy: 0.9752 - val_loss: 0.2982 - val_accuracy: 0.8854\n",
            "Epoch 55/100\n",
            "8/8 [==============================] - 14s 2s/step - loss: 0.0510 - accuracy: 0.9876 - val_loss: 0.1708 - val_accuracy: 0.9583\n",
            "Epoch 56/100\n",
            "8/8 [==============================] - 14s 2s/step - loss: 0.0987 - accuracy: 0.9711 - val_loss: 0.1798 - val_accuracy: 0.9375\n",
            "Epoch 57/100\n",
            "8/8 [==============================] - 14s 2s/step - loss: 0.1306 - accuracy: 0.9628 - val_loss: 0.1267 - val_accuracy: 0.9792\n",
            "Epoch 58/100\n",
            "8/8 [==============================] - 14s 2s/step - loss: 0.0945 - accuracy: 0.9844 - val_loss: 0.1523 - val_accuracy: 0.9479\n",
            "Epoch 59/100\n",
            "8/8 [==============================] - 14s 2s/step - loss: 0.0358 - accuracy: 0.9959 - val_loss: 0.2286 - val_accuracy: 0.9271\n",
            "Epoch 60/100\n",
            "8/8 [==============================] - 14s 2s/step - loss: 0.0393 - accuracy: 0.9835 - val_loss: 0.1760 - val_accuracy: 0.9375\n",
            "Epoch 61/100\n",
            "8/8 [==============================] - 14s 2s/step - loss: 0.0522 - accuracy: 0.9876 - val_loss: 0.2220 - val_accuracy: 0.9271\n",
            "Epoch 62/100\n",
            "8/8 [==============================] - 14s 2s/step - loss: 0.0467 - accuracy: 0.9835 - val_loss: 0.2188 - val_accuracy: 0.9583\n",
            "Epoch 63/100\n",
            "8/8 [==============================] - 14s 2s/step - loss: 0.0582 - accuracy: 0.9835 - val_loss: 0.1199 - val_accuracy: 0.9479\n",
            "Epoch 64/100\n",
            "8/8 [==============================] - 14s 2s/step - loss: 0.0501 - accuracy: 0.9917 - val_loss: 0.1462 - val_accuracy: 0.9479\n",
            "Epoch 65/100\n",
            "8/8 [==============================] - 14s 2s/step - loss: 0.0453 - accuracy: 0.9876 - val_loss: 0.2208 - val_accuracy: 0.9479\n",
            "Epoch 66/100\n",
            "8/8 [==============================] - 14s 2s/step - loss: 0.0665 - accuracy: 0.9669 - val_loss: 0.1251 - val_accuracy: 0.9583\n",
            "Epoch 67/100\n",
            "8/8 [==============================] - 14s 2s/step - loss: 0.0303 - accuracy: 0.9835 - val_loss: 0.1423 - val_accuracy: 0.9583\n",
            "Epoch 68/100\n",
            "8/8 [==============================] - 14s 2s/step - loss: 0.0138 - accuracy: 1.0000 - val_loss: 0.2626 - val_accuracy: 0.9271\n",
            "Epoch 69/100\n",
            "8/8 [==============================] - 14s 2s/step - loss: 0.0747 - accuracy: 0.9711 - val_loss: 0.2615 - val_accuracy: 0.9583\n",
            "Epoch 70/100\n",
            "8/8 [==============================] - 14s 2s/step - loss: 0.0880 - accuracy: 0.9793 - val_loss: 0.1562 - val_accuracy: 0.9479\n",
            "Epoch 71/100\n",
            "8/8 [==============================] - 14s 2s/step - loss: 0.0985 - accuracy: 0.9711 - val_loss: 0.2359 - val_accuracy: 0.9479\n",
            "Epoch 72/100\n",
            "8/8 [==============================] - 14s 2s/step - loss: 0.0688 - accuracy: 0.9876 - val_loss: 0.4036 - val_accuracy: 0.8854\n",
            "Epoch 73/100\n",
            "8/8 [==============================] - 14s 2s/step - loss: 0.0672 - accuracy: 0.9711 - val_loss: 0.1421 - val_accuracy: 0.9479\n",
            "Epoch 74/100\n",
            "8/8 [==============================] - 14s 2s/step - loss: 0.0698 - accuracy: 0.9752 - val_loss: 0.2883 - val_accuracy: 0.9479\n",
            "Epoch 75/100\n",
            "8/8 [==============================] - 14s 2s/step - loss: 0.0478 - accuracy: 0.9922 - val_loss: 0.1099 - val_accuracy: 0.9688\n",
            "Epoch 76/100\n",
            "8/8 [==============================] - 14s 2s/step - loss: 0.0996 - accuracy: 0.9752 - val_loss: 0.2267 - val_accuracy: 0.9271\n",
            "Epoch 77/100\n",
            "8/8 [==============================] - 14s 2s/step - loss: 0.1322 - accuracy: 0.9669 - val_loss: 0.2276 - val_accuracy: 0.9271\n",
            "Epoch 78/100\n",
            "8/8 [==============================] - 14s 2s/step - loss: 0.0948 - accuracy: 0.9752 - val_loss: 0.1412 - val_accuracy: 0.9479\n",
            "Epoch 79/100\n",
            "8/8 [==============================] - 14s 2s/step - loss: 0.0776 - accuracy: 0.9711 - val_loss: 0.1303 - val_accuracy: 0.9792\n",
            "Epoch 80/100\n",
            "8/8 [==============================] - 14s 2s/step - loss: 0.0619 - accuracy: 0.9835 - val_loss: 0.1143 - val_accuracy: 0.9583\n",
            "Epoch 81/100\n",
            "8/8 [==============================] - 14s 2s/step - loss: 0.0178 - accuracy: 0.9959 - val_loss: 0.1628 - val_accuracy: 0.9375\n",
            "Epoch 82/100\n",
            "8/8 [==============================] - 14s 2s/step - loss: 0.0505 - accuracy: 0.9917 - val_loss: 0.1720 - val_accuracy: 0.9375\n",
            "Epoch 83/100\n",
            "8/8 [==============================] - 14s 2s/step - loss: 0.0682 - accuracy: 0.9752 - val_loss: 0.1799 - val_accuracy: 0.9271\n",
            "Epoch 84/100\n",
            "8/8 [==============================] - 14s 2s/step - loss: 0.0408 - accuracy: 0.9917 - val_loss: 0.1923 - val_accuracy: 0.9583\n",
            "Epoch 85/100\n",
            "8/8 [==============================] - 14s 2s/step - loss: 0.0502 - accuracy: 0.9959 - val_loss: 0.2799 - val_accuracy: 0.9271\n",
            "Epoch 86/100\n",
            "8/8 [==============================] - 14s 2s/step - loss: 0.0310 - accuracy: 0.9922 - val_loss: 0.1062 - val_accuracy: 0.9583\n",
            "Epoch 87/100\n",
            "8/8 [==============================] - 14s 2s/step - loss: 0.0266 - accuracy: 0.9959 - val_loss: 0.1454 - val_accuracy: 0.9479\n",
            "Epoch 88/100\n",
            "8/8 [==============================] - 14s 2s/step - loss: 0.0684 - accuracy: 0.9917 - val_loss: 0.1354 - val_accuracy: 0.9583\n",
            "Epoch 89/100\n",
            "8/8 [==============================] - 14s 2s/step - loss: 0.0390 - accuracy: 0.9876 - val_loss: 0.2239 - val_accuracy: 0.9479\n",
            "Epoch 90/100\n",
            "8/8 [==============================] - 14s 2s/step - loss: 0.0347 - accuracy: 0.9917 - val_loss: 0.1672 - val_accuracy: 0.9583\n",
            "Epoch 91/100\n",
            "8/8 [==============================] - 14s 2s/step - loss: 0.0118 - accuracy: 1.0000 - val_loss: 0.2790 - val_accuracy: 0.9375\n",
            "Epoch 92/100\n",
            "8/8 [==============================] - 14s 2s/step - loss: 0.1079 - accuracy: 0.9844 - val_loss: 0.1030 - val_accuracy: 0.9479\n",
            "Epoch 93/100\n",
            "8/8 [==============================] - 14s 2s/step - loss: 0.0521 - accuracy: 0.9793 - val_loss: 0.1855 - val_accuracy: 0.9167\n",
            "Epoch 94/100\n",
            "8/8 [==============================] - 14s 2s/step - loss: 0.0440 - accuracy: 0.9917 - val_loss: 0.2826 - val_accuracy: 0.9167\n",
            "Epoch 95/100\n",
            "8/8 [==============================] - 14s 2s/step - loss: 0.0943 - accuracy: 0.9711 - val_loss: 0.1676 - val_accuracy: 0.9583\n",
            "Epoch 96/100\n",
            "8/8 [==============================] - 14s 2s/step - loss: 0.0255 - accuracy: 0.9917 - val_loss: 0.2588 - val_accuracy: 0.9375\n",
            "Epoch 97/100\n",
            "8/8 [==============================] - 14s 2s/step - loss: 0.0443 - accuracy: 0.9835 - val_loss: 0.2111 - val_accuracy: 0.9271\n",
            "Epoch 98/100\n",
            "8/8 [==============================] - 14s 2s/step - loss: 0.0356 - accuracy: 0.9917 - val_loss: 0.1700 - val_accuracy: 0.9375\n",
            "Epoch 99/100\n",
            "8/8 [==============================] - 14s 2s/step - loss: 0.0748 - accuracy: 0.9876 - val_loss: 0.2073 - val_accuracy: 0.9479\n",
            "Epoch 100/100\n",
            "8/8 [==============================] - 14s 2s/step - loss: 0.0301 - accuracy: 0.9961 - val_loss: 0.1266 - val_accuracy: 0.9375\n"
          ]
        }
      ]
    },
    {
      "cell_type": "code",
      "metadata": {
        "colab": {
          "base_uri": "https://localhost:8080/",
          "height": 281
        },
        "id": "8NB5Eb2-j18N",
        "outputId": "7a764c82-4bf5-4733-9324-83d1c4e4fa03"
      },
      "source": [
        "plt.plot(hist.history['loss'], label='Train data loss')\n",
        "plt.plot(hist.history['val_loss'], label='Train data val_loss')\n",
        "plt.title('CNN_COVID-19_Predictions: Train data loss & val_loss')\n",
        "plt.legend()\n",
        "plt.show()"
      ],
      "execution_count": 11,
      "outputs": [
        {
          "output_type": "display_data",
          "data": {
            "image/png": "[encoded data removed]",
            "text/plain": [
              "<Figure size 432x288 with 1 Axes>"
            ]
          },
          "metadata": {
            "needs_background": "light"
          }
        }
      ]
    },
    {
      "cell_type": "code",
      "metadata": {
        "colab": {
          "base_uri": "https://localhost:8080/",
          "height": 281
        },
        "id": "Ohy28v50n3b5",
        "outputId": "f806c9b6-ce5b-4d19-ccd4-b3d7c262477e"
      },
      "source": [
        "plt.plot(hist.history['accuracy'], label='Train data accuracy')\n",
        "plt.plot(hist.history['val_accuracy'], label='Train data val_accuracy')\n",
        "plt.title('CNN_COVID-19_Predictions: Train data accuracy & val_accuracy')\n",
        "plt.legend()\n",
        "plt.show()"
      ],
      "execution_count": 12,
      "outputs": [
        {
          "output_type": "display_data",
          "data": {
            "image/png": "[encoded data removed]",
            "text/plain": [
              "<Figure size 432x288 with 1 Axes>"
            ]
          },
          "metadata": {
            "needs_background": "light"
          }
        }
      ]
    },
    {
      "cell_type": "code",
      "metadata": {
        "colab": {
          "base_uri": "https://localhost:8080/",
          "height": 554
        },
        "id": "0mBUWtgGn8b0",
        "outputId": "0bd537b8-b965-458e-967d-d0870e4ae865"
      },
      "source": [
        "# Confusion matrix & Precision & Recall F1-score\n",
        "target_names = ['COVID+', 'COVID-']\n",
        "labels_names = [0,1]\n",
        "\n",
        "Y_pred = model.predict_generator(testdata)\n",
        "y_pred = np.argmax(Y_pred, axis=1)\n",
        "cm = confusion_matrix(testdata.classes, y_pred=y_pred, labels=labels_names)\n",
        "\n",
        "print('Confusion Matrix')\n",
        "print(confusion_matrix(testdata.classes, y_pred))\n",
        "\n",
        "print('Classification Matrix')\n",
        "print(classification_report(testdata.classes, y_pred=y_pred, target_names=target_names))\n",
        "\n",
        "disp = ConfusionMatrixDisplay(confusion_matrix=cm, display_labels=target_names)\n",
        "disp = disp.plot(cmap=plt.cm.Blues, values_format='g')\n",
        "\n",
        "plt.show()"
      ],
      "execution_count": 13,
      "outputs": [
        {
          "output_type": "stream",
          "name": "stderr",
          "text": [
            "/usr/local/lib/python3.7/dist-packages/keras/engine/training.py:2035: UserWarning: `Model.predict_generator` is deprecated and will be removed in a future version. Please use `Model.predict`, which supports generators.\n",
            "  warnings.warn('`Model.predict_generator` is deprecated and '\n"
          ]
        },
        {
          "output_type": "stream",
          "name": "stdout",
          "text": [
            "Confusion Matrix\n",
            "[[28 31]\n",
            " [35 24]]\n",
            "Classification Matrix\n",
            "              precision    recall  f1-score   support\n",
            "\n",
            "      COVID+       0.44      0.47      0.46        59\n",
            "      COVID-       0.44      0.41      0.42        59\n",
            "\n",
            "    accuracy                           0.44       118\n",
            "   macro avg       0.44      0.44      0.44       118\n",
            "weighted avg       0.44      0.44      0.44       118\n",
            "\n"
          ]
        },
        {
          "output_type": "display_data",
          "data": {
            "image/png": "[encoded data removed]",
            "text/plain": [
              "<Figure size 432x288 with 2 Axes>"
            ]
          },
          "metadata": {
            "needs_background": "light"
          }
        }
      ]
    }
  ]
}